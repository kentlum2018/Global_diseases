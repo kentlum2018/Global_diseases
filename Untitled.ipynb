{
 "cells": [
  {
   "cell_type": "code",
   "execution_count": 2,
   "metadata": {},
   "outputs": [],
   "source": [
    "import pandas as pd\n",
    "from sqlalchemy import create_engine"
   ]
  },
  {
   "cell_type": "code",
   "execution_count": 3,
   "metadata": {},
   "outputs": [],
   "source": [
    "climate_data = pd.read_html('https://www.ncdc.noaa.gov/cag/global/time-series/globe/land_ocean/12/6/1980-2019')"
   ]
  },
  {
   "cell_type": "code",
   "execution_count": 4,
   "metadata": {},
   "outputs": [
    {
     "data": {
      "text/plain": [
       "[    Year Anomaly(1901-2000 Base Period)  Rank\n",
       " 0   1980                         0.30°C     8\n",
       " 1   1981                         0.30°C    10\n",
       " 2   1982                         0.20°C     2\n",
       " 3   1983                         0.30°C    11\n",
       " 4   1984                         0.26°C     7\n",
       " 5   1985                         0.12°C     1\n",
       " 6   1986                         0.20°C     3\n",
       " 7   1987                         0.26°C     6\n",
       " 8   1988                         0.42°C    17\n",
       " 9   1989                         0.30°C     9\n",
       " 10  1990                         0.39°C    15\n",
       " 11  1991                         0.42°C    16\n",
       " 12  1992                         0.37°C    12\n",
       " 13  1993                         0.25°C     4\n",
       " 14  1994                         0.26°C     5\n",
       " 15  1995                         0.43°C    18\n",
       " 16  1996                         0.38°C    14\n",
       " 17  1997                         0.37°C    13\n",
       " 18  1998                         0.64°C    31\n",
       " 19  1999                         0.52°C    22\n",
       " 20  2000                         0.45°C    20\n",
       " 21  2001                         0.44°C    19\n",
       " 22  2002                         0.61°C    28\n",
       " 23  2003                         0.56°C    23\n",
       " 24  2004                         0.61°C    29\n",
       " 25  2005                         0.61°C    27\n",
       " 26  2006                         0.61°C    30\n",
       " 27  2007                         0.67°C    33\n",
       " 28  2008                         0.51°C    21\n",
       " 29  2009                         0.60°C    25\n",
       " 30  2010                         0.71°C    35\n",
       " 31  2011                         0.60°C    26\n",
       " 32  2012                         0.58°C    24\n",
       " 33  2013                         0.64°C    32\n",
       " 34  2014                         0.71°C    34\n",
       " 35  2015                         0.81°C    37\n",
       " 36  2016                         1.01°C    39\n",
       " 37  2017                         0.86°C    38\n",
       " 38  2018                         0.78°C    36]"
      ]
     },
     "execution_count": 4,
     "metadata": {},
     "output_type": "execute_result"
    }
   ],
   "source": [
    "climate_data"
   ]
  },
  {
   "cell_type": "code",
   "execution_count": 5,
   "metadata": {},
   "outputs": [
    {
     "ename": "NameError",
     "evalue": "name 'Base' is not defined",
     "output_type": "error",
     "traceback": [
      "\u001b[0;31m---------------------------------------------------------------------------\u001b[0m",
      "\u001b[0;31mNameError\u001b[0m                                 Traceback (most recent call last)",
      "\u001b[0;32m<ipython-input-5-2009cba76d2a>\u001b[0m in \u001b[0;36m<module>\u001b[0;34m\u001b[0m\n\u001b[1;32m      1\u001b[0m \u001b[0;31m# pd.read_sql(\"SELECT * FROM who_country_code_mhw\", conn)\u001b[0m\u001b[0;34m\u001b[0m\u001b[0;34m\u001b[0m\u001b[0;34m\u001b[0m\u001b[0m\n\u001b[0;32m----> 2\u001b[0;31m \u001b[0mBase\u001b[0m\u001b[0;34m.\u001b[0m\u001b[0mmetadata\u001b[0m\u001b[0;34m.\u001b[0m\u001b[0mcreate_all\u001b[0m\u001b[0;34m(\u001b[0m\u001b[0mengine\u001b[0m\u001b[0;34m)\u001b[0m\u001b[0;34m\u001b[0m\u001b[0;34m\u001b[0m\u001b[0m\n\u001b[0m",
      "\u001b[0;31mNameError\u001b[0m: name 'Base' is not defined"
     ]
    }
   ],
   "source": [
    "# pd.read_sql(\"SELECT * FROM who_country_code_mhw\", conn)\n"
   ]
  },
  {
   "cell_type": "code",
   "execution_count": null,
   "metadata": {},
   "outputs": [],
   "source": []
  }
 ],
 "metadata": {
  "kernelspec": {
   "display_name": "Python 3",
   "language": "python",
   "name": "python3"
  },
  "language_info": {
   "codemirror_mode": {
    "name": "ipython",
    "version": 3
   },
   "file_extension": ".py",
   "mimetype": "text/x-python",
   "name": "python",
   "nbconvert_exporter": "python",
   "pygments_lexer": "ipython3",
   "version": "3.7.2"
  }
 },
 "nbformat": 4,
 "nbformat_minor": 2
}
