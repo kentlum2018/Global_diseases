{
 "cells": [
  {
   "cell_type": "code",
   "execution_count": null,
   "metadata": {},
   "outputs": [],
   "source": [
    "import pandas as pd\n",
    "import matplotlib.pyplot as plt\n",
    "import numpy as np\n",
    "import requests\n",
    "import sqlite3"
   ]
  },
  {
   "cell_type": "markdown",
   "metadata": {},
   "source": [
    "## Extracting the longitude Latitude table"
   ]
  },
  {
   "cell_type": "code",
   "execution_count": null,
   "metadata": {},
   "outputs": [],
   "source": [
    "# found a table containing longitude and latitudes of countries and \n",
    "# brought it into pandas\n",
    "\n",
    "long_lat=pd.read_html(\"https://developers.google.com/public-data/docs/canonical/countries_csv\",skiprows=1)[0]\n",
    "\n",
    "# renaming columns\n",
    "long_lat.columns = ['country_code', 'latitude','longitude','name']\n",
    "\n",
    "# printing dataframe\n",
    "long_lat.head()"
   ]
  },
  {
   "cell_type": "code",
   "execution_count": null,
   "metadata": {},
   "outputs": [],
   "source": [
    "#  country code \n",
    "converting_country_code=pd.read_html(\"https://www.worldatlas.com/aatlas/ctycodes.htm\",skiprows=1)[0]\n",
    "converting_country_code.columns= ['name','country_code_2','country_code_3','x','y']\n",
    "converting_country_code=converting_country_code.drop(['x', 'y'], axis=1)\n",
    "converting_country_code.head()\n"
   ]
  },
  {
   "cell_type": "code",
   "execution_count": null,
   "metadata": {},
   "outputs": [],
   "source": [
    "merged_col=pd.merge(converting_country_code, long_lat, left_on='country_code_2',right_on=\"country_code\",how=\"inner\")\n",
    "merged_col.head()\n",
    "\n"
   ]
  },
  {
   "cell_type": "code",
   "execution_count": null,
   "metadata": {},
   "outputs": [],
   "source": [
    "# cleaning up the pandas dataframe\n",
    "# dropping cols I dont need\n",
    "merged_col=merged_col.drop(['name_y','country_code','country_code_2'], axis=1)\n",
    "merged_col.head()\n"
   ]
  },
  {
   "cell_type": "code",
   "execution_count": null,
   "metadata": {},
   "outputs": [],
   "source": [
    "# renaming cols\n",
    "merged_col.columns = ['country','country_code','latitude','longitude']"
   ]
  },
  {
   "cell_type": "code",
   "execution_count": null,
   "metadata": {},
   "outputs": [],
   "source": [
    "merged_col.head()\n"
   ]
  },
  {
   "cell_type": "code",
   "execution_count": null,
   "metadata": {},
   "outputs": [],
   "source": [
    "# Saved the merged cols into a csv\n",
    "merged_col.to_csv(\"/Users/muhammadwaliji/Desktop/project_2/country_code.csv\")\n"
   ]
  },
  {
   "cell_type": "code",
   "execution_count": null,
   "metadata": {},
   "outputs": [],
   "source": [
    "# Used the WHO API to get access to how they add the country code and will be \n",
    "# merging it with our own table to make sure the data we intend to parse in future from WHO alligns with our \n",
    "# merged_col\n",
    "url = \"http://apps.who.int/gho/athena/api/COUNTRY?format=json\"\n",
    "country_r = requests.get(url).json()\n",
    "country_r\n"
   ]
  },
  {
   "cell_type": "code",
   "execution_count": null,
   "metadata": {},
   "outputs": [],
   "source": [
    "# checking to see what needs to be added into the country_r to output the country_code \n",
    "\n",
    "country_r['dimension'][0]['code'][0]['label']\n"
   ]
  },
  {
   "cell_type": "code",
   "execution_count": null,
   "metadata": {},
   "outputs": [],
   "source": [
    "# Creating a list of all the country_codes I can get from the WHO website\n",
    "\n",
    "who_country_list=[]\n",
    "\n",
    "country_code=country_r['dimension'][0]['code']\n",
    "\n",
    "for country in country_code:\n",
    "    who_country_list.append(country[\"label\"])"
   ]
  },
  {
   "cell_type": "code",
   "execution_count": null,
   "metadata": {},
   "outputs": [],
   "source": [
    "# converting the list into a dataframe and renaming the col. I did this \n",
    "# so I can merge this dataframe with the one we made earlier to make sure all the who countries are in the mergel_col\n",
    "\n",
    "who_df=pd.DataFrame(who_country_list)\n",
    "who_df.columns=[\"who_country\"]\n",
    "who_df.head()\n"
   ]
  },
  {
   "cell_type": "code",
   "execution_count": null,
   "metadata": {},
   "outputs": [],
   "source": [
    "# merging the two data frames together on country code. this output 226 \n",
    "# countries which is sufficent for our data set\n",
    "who_and_others=pd.merge(merged_col, who_df, left_on='country_code',right_on=\"who_country\",how=\"inner\")\n",
    "who_and_others.head()\n"
   ]
  },
  {
   "cell_type": "code",
   "execution_count": null,
   "metadata": {},
   "outputs": [],
   "source": [
    "who_and_others=who_and_others.drop(['who_country'], axis=1)\n"
   ]
  },
  {
   "cell_type": "code",
   "execution_count": null,
   "metadata": {},
   "outputs": [],
   "source": [
    "who_and_others.head(1)\n",
    "# who_and_others.shape"
   ]
  },
  {
   "cell_type": "code",
   "execution_count": null,
   "metadata": {},
   "outputs": [],
   "source": [
    "who_and_others.to_csv(\"/Users/muhammadwaliji/Desktop/project_2/who_inc_country_code.csv\")\n"
   ]
  },
  {
   "cell_type": "markdown",
   "metadata": {},
   "source": [
    "## Extracting the Disease data using API"
   ]
  },
  {
   "cell_type": "code",
   "execution_count": null,
   "metadata": {},
   "outputs": [],
   "source": [
    "## diseases calls\n",
    "\n",
    "url = \"http://apps.who.int/gho/athena/data/GHO/\"\n",
    "url_after = \"?format=html&filter=COUNTRY:*\"\n",
    "malaria_code = \"WHS3_48\"\n",
    "yel_fev_code = \"WHS3_50\"\n",
    "leprosy_code = \"WHS3_45\""
   ]
  },
  {
   "cell_type": "code",
   "execution_count": null,
   "metadata": {},
   "outputs": [],
   "source": [
    "malaria_url = url + malaria_code + url_after\n",
    "yel_fev_url = url + yel_fev_code + url_after\n",
    "leprosy_url = url + leprosy_code + url_after"
   ]
  },
  {
   "cell_type": "code",
   "execution_count": null,
   "metadata": {},
   "outputs": [],
   "source": [
    "mal_raw = pd.read_html(malaria_url)[0]"
   ]
  },
  {
   "cell_type": "code",
   "execution_count": null,
   "metadata": {},
   "outputs": [],
   "source": [
    "yel_raw = pd.read_html(yel_fev_url)[0]"
   ]
  },
  {
   "cell_type": "code",
   "execution_count": null,
   "metadata": {},
   "outputs": [],
   "source": [
    "lep_raw = pd.read_html(leprosy_url)[0]"
   ]
  },
  {
   "cell_type": "code",
   "execution_count": null,
   "metadata": {},
   "outputs": [],
   "source": [
    "# display data to observe\n",
    "display(mal_raw.head())\n",
    "display(yel_raw.head())\n",
    "display(lep_raw.head())"
   ]
  },
  {
   "cell_type": "code",
   "execution_count": null,
   "metadata": {},
   "outputs": [],
   "source": [
    "mal_cols = mal_raw.loc[:, ['YEAR', 'COUNTRY', 'NUMERIC VALUE']].copy('deep')\n",
    "mal_cols['DISEASE'] = 'Malaria'"
   ]
  },
  {
   "cell_type": "code",
   "execution_count": null,
   "metadata": {},
   "outputs": [],
   "source": [
    "yel_cols = yel_raw.loc[:, ['YEAR', 'COUNTRY', 'NUMERIC VALUE']].copy('deep')\n",
    "yel_cols['DISEASE'] = 'Yellow Fever'"
   ]
  },
  {
   "cell_type": "code",
   "execution_count": null,
   "metadata": {},
   "outputs": [],
   "source": [
    "lep_cols = lep_raw.loc[:, ['YEAR', 'COUNTRY', 'NUMERIC VALUE']].copy('deep')\n",
    "lep_cols['DISEASE'] = 'Leprosy'"
   ]
  },
  {
   "cell_type": "code",
   "execution_count": null,
   "metadata": {},
   "outputs": [],
   "source": [
    "# observe changes to data\n",
    "display(mal_cols.head())\n",
    "display(yel_cols.head())\n",
    "display(lep_cols.head())"
   ]
  },
  {
   "cell_type": "code",
   "execution_count": null,
   "metadata": {},
   "outputs": [],
   "source": [
    "dfs = [mal_cols, yel_cols, lep_cols]"
   ]
  },
  {
   "cell_type": "code",
   "execution_count": null,
   "metadata": {},
   "outputs": [],
   "source": [
    "disease_df = pd.concat(dfs)"
   ]
  },
  {
   "cell_type": "code",
   "execution_count": null,
   "metadata": {},
   "outputs": [],
   "source": [
    "disease_df = disease_df[['YEAR', 'COUNTRY', 'DISEASE', 'NUMERIC VALUE']]\n",
    "disease_df.head()"
   ]
  },
  {
   "cell_type": "code",
   "execution_count": null,
   "metadata": {},
   "outputs": [],
   "source": [
    "disease_df.loc[\n",
    "    (disease_df['COUNTRY'] == 'Congo') &\n",
    "    (disease_df['DISEASE'] == 'Malaria')\n",
    "].sort_values('YEAR')"
   ]
  },
  {
   "cell_type": "markdown",
   "metadata": {},
   "source": [
    "## Option 1: Use pd.to_sql"
   ]
  },
  {
   "cell_type": "code",
   "execution_count": null,
   "metadata": {},
   "outputs": [],
   "source": [
    "# SQlite file name and location\n",
    "\n",
    "# fix this when running on your own computer as this is the file name for Schehrbano's computer\n",
    "\n",
    "sqlite_filename = '/Users/muhammadwaliji/Desktop/project_2/global_diseases.sqlite'\n"
   ]
  },
  {
   "cell_type": "code",
   "execution_count": null,
   "metadata": {},
   "outputs": [],
   "source": [
    "# connection to the sqlite file \n",
    "conn = sqlite3.connect(sqlite_filename)\n",
    "cur = conn.cursor()"
   ]
  },
  {
   "cell_type": "code",
   "execution_count": null,
   "metadata": {},
   "outputs": [],
   "source": [
    "# Adding the country long lat to a sqlite file\n",
    "who_and_others.to_sql(\"country_long_lat\", conn, if_exists=\"replace\")\n"
   ]
  },
  {
   "cell_type": "code",
   "execution_count": null,
   "metadata": {},
   "outputs": [],
   "source": [
    "# Adding the disease instances table to a sqlite file\n",
    "disease_df.to_sql('instances_table', conn, if_exists='replace')"
   ]
  },
  {
   "cell_type": "code",
   "execution_count": null,
   "metadata": {},
   "outputs": [],
   "source": [
    "# At this point we are essentially done adding things to sqlite\n",
    "#  if this is the end, run the following lines\n",
    "# cur.close()\n",
    "# conn.close()\n",
    "\n",
    "# If you want to run sql queries now, do as follows \n",
    "# |\n",
    "# |\n",
    "# |\n",
    "# V"
   ]
  },
  {
   "cell_type": "code",
   "execution_count": null,
   "metadata": {},
   "outputs": [],
   "source": [
    "# Easy way of reading the data back directly into pandas.\n",
    "\n",
    "df_from_sqlite = pd.read_sql_query(\"\"\"\n",
    "SELECT * FROM country_long_lat\n",
    "\"\"\", conn)"
   ]
  },
  {
   "cell_type": "code",
   "execution_count": null,
   "metadata": {},
   "outputs": [],
   "source": [
    "df_from_sqlite.head()"
   ]
  },
  {
   "cell_type": "code",
   "execution_count": null,
   "metadata": {},
   "outputs": [],
   "source": [
    "cur.close()\n",
    "conn.close()"
   ]
  }
 ],
 "metadata": {
  "kernelspec": {
   "display_name": "Python 3",
   "language": "python",
   "name": "python3"
  },
  "language_info": {
   "codemirror_mode": {
    "name": "ipython",
    "version": 3
   },
   "file_extension": ".py",
   "mimetype": "text/x-python",
   "name": "python",
   "nbconvert_exporter": "python",
   "pygments_lexer": "ipython3",
   "version": "3.7.0"
  }
 },
 "nbformat": 4,
 "nbformat_minor": 2
}
